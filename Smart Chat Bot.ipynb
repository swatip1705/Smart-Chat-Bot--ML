{
 "cells": [
  {
   "cell_type": "code",
   "execution_count": 2,
   "id": "72bf6e1b",
   "metadata": {},
   "outputs": [],
   "source": [
    "# This is a \"Smart\" Chat bot welcoming you "
   ]
  },
  {
   "cell_type": "code",
   "execution_count": 3,
   "id": "57e223c2",
   "metadata": {},
   "outputs": [
    {
     "name": "stdout",
     "output_type": "stream",
     "text": [
      "Requirement already satisfied: nltk in ./opt/anaconda3/lib/python3.9/site-packages (3.6.5)\n",
      "Requirement already satisfied: click in ./opt/anaconda3/lib/python3.9/site-packages (from nltk) (8.0.3)\n",
      "Requirement already satisfied: joblib in ./opt/anaconda3/lib/python3.9/site-packages (from nltk) (1.1.0)\n",
      "Requirement already satisfied: regex>=2021.8.3 in ./opt/anaconda3/lib/python3.9/site-packages (from nltk) (2021.8.3)\n",
      "Requirement already satisfied: tqdm in ./opt/anaconda3/lib/python3.9/site-packages (from nltk) (4.62.3)\n",
      "\u001b[33mWARNING: You are using pip version 21.3.1; however, version 22.2.1 is available.\n",
      "You should consider upgrading via the '/Users/swati/opt/anaconda3/bin/python -m pip install --upgrade pip' command.\u001b[0m\n",
      "Note: you may need to restart the kernel to use updated packages.\n"
     ]
    }
   ],
   "source": [
    "pip install nltk"
   ]
  },
  {
   "cell_type": "code",
   "execution_count": 4,
   "id": "c28c4059",
   "metadata": {},
   "outputs": [
    {
     "name": "stdout",
     "output_type": "stream",
     "text": [
      "Requirement already satisfied: newspaper3k in ./opt/anaconda3/lib/python3.9/site-packages (0.2.8)\n",
      "Requirement already satisfied: Pillow>=3.3.0 in ./opt/anaconda3/lib/python3.9/site-packages (from newspaper3k) (8.4.0)\n",
      "Requirement already satisfied: requests>=2.10.0 in ./opt/anaconda3/lib/python3.9/site-packages (from newspaper3k) (2.26.0)\n",
      "Requirement already satisfied: nltk>=3.2.1 in ./opt/anaconda3/lib/python3.9/site-packages (from newspaper3k) (3.6.5)\n",
      "Requirement already satisfied: lxml>=3.6.0 in ./opt/anaconda3/lib/python3.9/site-packages (from newspaper3k) (4.6.3)\n",
      "Requirement already satisfied: PyYAML>=3.11 in ./opt/anaconda3/lib/python3.9/site-packages (from newspaper3k) (6.0)\n",
      "Requirement already satisfied: tinysegmenter==0.3 in ./opt/anaconda3/lib/python3.9/site-packages (from newspaper3k) (0.3)\n",
      "Requirement already satisfied: python-dateutil>=2.5.3 in ./opt/anaconda3/lib/python3.9/site-packages (from newspaper3k) (2.8.2)\n",
      "Requirement already satisfied: feedparser>=5.2.1 in ./opt/anaconda3/lib/python3.9/site-packages (from newspaper3k) (6.0.10)\n",
      "Requirement already satisfied: tldextract>=2.0.1 in ./opt/anaconda3/lib/python3.9/site-packages (from newspaper3k) (3.3.1)\n",
      "Requirement already satisfied: jieba3k>=0.35.1 in ./opt/anaconda3/lib/python3.9/site-packages (from newspaper3k) (0.35.1)\n",
      "Requirement already satisfied: feedfinder2>=0.0.4 in ./opt/anaconda3/lib/python3.9/site-packages (from newspaper3k) (0.0.4)\n",
      "Requirement already satisfied: beautifulsoup4>=4.4.1 in ./opt/anaconda3/lib/python3.9/site-packages (from newspaper3k) (4.10.0)\n",
      "Requirement already satisfied: cssselect>=0.9.2 in ./opt/anaconda3/lib/python3.9/site-packages (from newspaper3k) (1.1.0)\n",
      "Requirement already satisfied: soupsieve>1.2 in ./opt/anaconda3/lib/python3.9/site-packages (from beautifulsoup4>=4.4.1->newspaper3k) (2.2.1)\n",
      "Requirement already satisfied: six in ./opt/anaconda3/lib/python3.9/site-packages (from feedfinder2>=0.0.4->newspaper3k) (1.16.0)\n",
      "Requirement already satisfied: sgmllib3k in ./opt/anaconda3/lib/python3.9/site-packages (from feedparser>=5.2.1->newspaper3k) (1.0.0)\n",
      "Requirement already satisfied: click in ./opt/anaconda3/lib/python3.9/site-packages (from nltk>=3.2.1->newspaper3k) (8.0.3)\n",
      "Requirement already satisfied: joblib in ./opt/anaconda3/lib/python3.9/site-packages (from nltk>=3.2.1->newspaper3k) (1.1.0)\n",
      "Requirement already satisfied: regex>=2021.8.3 in ./opt/anaconda3/lib/python3.9/site-packages (from nltk>=3.2.1->newspaper3k) (2021.8.3)\n",
      "Requirement already satisfied: tqdm in ./opt/anaconda3/lib/python3.9/site-packages (from nltk>=3.2.1->newspaper3k) (4.62.3)\n",
      "Requirement already satisfied: charset-normalizer~=2.0.0 in ./opt/anaconda3/lib/python3.9/site-packages (from requests>=2.10.0->newspaper3k) (2.0.4)\n",
      "Requirement already satisfied: urllib3<1.27,>=1.21.1 in ./opt/anaconda3/lib/python3.9/site-packages (from requests>=2.10.0->newspaper3k) (1.26.7)\n",
      "Requirement already satisfied: idna<4,>=2.5 in ./opt/anaconda3/lib/python3.9/site-packages (from requests>=2.10.0->newspaper3k) (3.2)\n",
      "Requirement already satisfied: certifi>=2017.4.17 in ./opt/anaconda3/lib/python3.9/site-packages (from requests>=2.10.0->newspaper3k) (2021.10.8)\n",
      "Requirement already satisfied: requests-file>=1.4 in ./opt/anaconda3/lib/python3.9/site-packages (from tldextract>=2.0.1->newspaper3k) (1.5.1)\n",
      "Requirement already satisfied: filelock>=3.0.8 in ./opt/anaconda3/lib/python3.9/site-packages (from tldextract>=2.0.1->newspaper3k) (3.3.1)\n",
      "\u001b[33mWARNING: You are using pip version 21.3.1; however, version 22.2.1 is available.\n",
      "You should consider upgrading via the '/Users/swati/opt/anaconda3/bin/python -m pip install --upgrade pip' command.\u001b[0m\n",
      "Note: you may need to restart the kernel to use updated packages.\n"
     ]
    }
   ],
   "source": [
    "pip install newspaper3k"
   ]
  },
  {
   "cell_type": "code",
   "execution_count": 5,
   "id": "c8a00925",
   "metadata": {},
   "outputs": [],
   "source": [
    "from newspaper import Article\n",
    "import random\n",
    "import string\n",
    "import nltk\n",
    "from sklearn.feature_extraction.text import CountVectorizer\n",
    "from sklearn.metrics.pairwise import cosine_similarity \n",
    "import numpy as np\n",
    "import warnings\n",
    "warnings.filterwarnings('ignore')"
   ]
  },
  {
   "cell_type": "code",
   "execution_count": 6,
   "id": "8dc70c6e",
   "metadata": {},
   "outputs": [
    {
     "data": {
      "text/plain": [
       "True"
      ]
     },
     "execution_count": 6,
     "metadata": {},
     "output_type": "execute_result"
    }
   ],
   "source": [
    "nltk.download('punkt', quiet=True)"
   ]
  },
  {
   "cell_type": "code",
   "execution_count": 7,
   "id": "3675c25f",
   "metadata": {},
   "outputs": [],
   "source": [
    "#Get the Article\n",
    "article=Article('https://www.mayoclinic.org/diseases-conditions/chronic-kidney-disease/symptoms-causes/syc-20354521')\n",
    "article.download()\n",
    "article.parse()\n",
    "article.nlp()\n",
    "corpus=article.text"
   ]
  },
  {
   "cell_type": "code",
   "execution_count": 8,
   "id": "dd8fa043",
   "metadata": {},
   "outputs": [
    {
     "name": "stdout",
     "output_type": "stream",
     "text": [
      "I'm Dr. Andrew Bentall, a kidney doctor at Mayo Clinic. I look after patients with kidney disease, either in the early stages, or with more advanced kidney disease considering dialysis and transplantation as treatment options. In this video, we'll cover the basics of chronic kidney disease. What is it? Who gets it? The symptoms, diagnosis and treatment. Whether you are looking for answers for yourself or for someone you love, we're here to give you the best information available.\n",
      "\n",
      "Chronic kidney disease is a disease characterized by progressive damage and loss of function in the kidneys. It's estimated that chronic kidney disease affects about one in seven American adults. And most of those don't know they have it. Before we get into the disease itself, let's talk a little bit about the kidneys and what they do. Our kidneys play many important roles keeping our bodies in balance. They remove waste and toxins, excess water from the bloodstream, which is carried out of the body in urine. They helped to make hormones to produce red blood cells, and they turn vitamin D into its active form, so it's usable in the body.\n",
      "\n",
      "There are quite a few things that can cause or put you at higher risk for chronic kidney disease. Some of them are not things that can be avoided. Your risk is simply higher if you have a family history of certain genetic conditions like polycystic kidney disease or some autoimmune diseases like lupus or IgA nephropathy. Defects in the kidney structure can also cause your kidneys to fail, and you have an increased risk as you get older. Sometimes, other common medical conditions can increase your risk. Diabetes is the most common cause of kidney disease. Both type 1 and type 2 diabetes. But also heart disease and obesity can contribute to the damage that causes kidneys to fail. Urinary tract issues and inflammation in different parts of the kidney can also lead to long-term functional decline. There are things that are more under our control: Heavy or long-term use of certain medications, even those that are common over-the-counter. Smoking can also be a contributing factor to chronic kidney disease.\n",
      "\n",
      "Often there are no outward signs in the earlier stages of chronic kidney disease, which is grouped into stages 1 through 5. Generally, earlier stages are known as 1 to 3. And as kidney disease progresses, you may notice the following symptoms. Nausea and vomiting, muscle cramps, loss of appetite, swelling via feet and ankles, dry, itchy skin, shortness of breath, trouble sleeping, urinating either too much or too little. However, these are usually in the later stages, but they can also happen in other disorders. So don't automatically interpret this as having kidney disease. But if you're experiencing anything that concerns you, you should make an appointment with your doctor.\n",
      "\n",
      "Even before any symptoms appear, routine blood work can indicate that you might be in the early stages of chronic kidney disease. And the earlier it's detected, the easier it is to treat. This is why regular checkups with your doctor are important. If your doctor suspects the onset of chronic kidney disease, they may schedule a variety of other tests. They may also refer you to a kidney specialist, a nephrologist like myself. Urine tests can reveal abnormalities and give clues to the underlying cause of the chronic kidney disease. And this can also help to determine the underlying issues. Various imaging tests like ultrasounds or CT scans can be done to help your doctor assess the size, the structure, as well as evaluate the visible damage, inflammation or stones of your kidneys. And in some cases, a kidney biopsy may be necessary. And a small amount of tissue is taken with a needle and sent to the pathologist for further analysis.\n",
      "\n",
      "Treatment is determined by what is causing your kidneys to not function normally. Treating the cause is key, leading to reduced complications and slowing progression of kidney disease. For example, getting better blood pressure control, improved sugar control and diabetes, and reducing weight are often key interventions. However, existing damage is not usually reversible. In some conditions, treatment can reverse the cause of the disease. So seeking medical review is really important. Individual complications vary, but treatment might include high blood pressure medication, diuretics to reduce fluid and swelling, supplements to relieve anemia, statins to lower cholesterol, or medications to protect your bones and prevent blood vessel calcification. A lower-protein diet may also be recommended. It reduces the amount of waste your kidneys need to filter from your blood. These can not only slow the damage of kidney disease, but make you feel better as well. When the damage has progressed to the point that 85 to 90 percent of your kidney function is gone, and they no longer work well enough to keep you alive, it's called end-stage kidney failure. But there are still options. There's dialysis, which uses a machine to filter the toxins and remove water from your body as your kidneys are no longer able to do this. Where possible, the preferred therapy is a kidney transplant. While an organ transplant can sound daunting, it's actually often the better alternative, and the closest thing to a cure, if you qualify for a kidney transplant.\n",
      "\n",
      "If you have kidney disease, there are lifestyle choices. Namely quit smoking. Consuming alcohol in moderation. If you're overweight or obese, then try to lose weight. Staying active and getting exercise can help not only with your weight, but fatigue and stress. If your condition allows, keep up with your routine, whether that's working, hobbies, social activities, or other things you enjoy. It can be helpful to talk to someone you trust, a friend or relative who's good at listening. Or your doctor could also refer you to a therapist or social worker. It can also be helpful to find a support group and connect with people going through the same thing. Learning you have chronic kidney disease and learning how to live with it can be a challenge. But there are lots of ways to help you to be more comfortable for longer before more drastic measures are needed. And even then, there is plenty of hope. If you'd like to learn even more about chronic kidney disease, watch our other related videos or visit mayoclinic.org. We wish you well.\n"
     ]
    }
   ],
   "source": [
    "#print the article text\n",
    "print(corpus)"
   ]
  },
  {
   "cell_type": "code",
   "execution_count": 9,
   "id": "35d87c4c",
   "metadata": {},
   "outputs": [],
   "source": [
    "#Tokenization\n",
    "text=corpus\n",
    "sentence_list=nltk.sent_tokenize(text) #list of sentences"
   ]
  },
  {
   "cell_type": "code",
   "execution_count": 10,
   "id": "85c24554",
   "metadata": {},
   "outputs": [
    {
     "name": "stdout",
     "output_type": "stream",
     "text": [
      "[\"I'm Dr. Andrew Bentall, a kidney doctor at Mayo Clinic.\", 'I look after patients with kidney disease, either in the early stages, or with more advanced kidney disease considering dialysis and transplantation as treatment options.', \"In this video, we'll cover the basics of chronic kidney disease.\", 'What is it?', 'Who gets it?', 'The symptoms, diagnosis and treatment.', \"Whether you are looking for answers for yourself or for someone you love, we're here to give you the best information available.\", 'Chronic kidney disease is a disease characterized by progressive damage and loss of function in the kidneys.', \"It's estimated that chronic kidney disease affects about one in seven American adults.\", \"And most of those don't know they have it.\", \"Before we get into the disease itself, let's talk a little bit about the kidneys and what they do.\", 'Our kidneys play many important roles keeping our bodies in balance.', 'They remove waste and toxins, excess water from the bloodstream, which is carried out of the body in urine.', \"They helped to make hormones to produce red blood cells, and they turn vitamin D into its active form, so it's usable in the body.\", 'There are quite a few things that can cause or put you at higher risk for chronic kidney disease.', 'Some of them are not things that can be avoided.', 'Your risk is simply higher if you have a family history of certain genetic conditions like polycystic kidney disease or some autoimmune diseases like lupus or IgA nephropathy.', 'Defects in the kidney structure can also cause your kidneys to fail, and you have an increased risk as you get older.', 'Sometimes, other common medical conditions can increase your risk.', 'Diabetes is the most common cause of kidney disease.', 'Both type 1 and type 2 diabetes.', 'But also heart disease and obesity can contribute to the damage that causes kidneys to fail.', 'Urinary tract issues and inflammation in different parts of the kidney can also lead to long-term functional decline.', 'There are things that are more under our control: Heavy or long-term use of certain medications, even those that are common over-the-counter.', 'Smoking can also be a contributing factor to chronic kidney disease.', 'Often there are no outward signs in the earlier stages of chronic kidney disease, which is grouped into stages 1 through 5.', 'Generally, earlier stages are known as 1 to 3.', 'And as kidney disease progresses, you may notice the following symptoms.', 'Nausea and vomiting, muscle cramps, loss of appetite, swelling via feet and ankles, dry, itchy skin, shortness of breath, trouble sleeping, urinating either too much or too little.', 'However, these are usually in the later stages, but they can also happen in other disorders.', \"So don't automatically interpret this as having kidney disease.\", \"But if you're experiencing anything that concerns you, you should make an appointment with your doctor.\", 'Even before any symptoms appear, routine blood work can indicate that you might be in the early stages of chronic kidney disease.', \"And the earlier it's detected, the easier it is to treat.\", 'This is why regular checkups with your doctor are important.', 'If your doctor suspects the onset of chronic kidney disease, they may schedule a variety of other tests.', 'They may also refer you to a kidney specialist, a nephrologist like myself.', 'Urine tests can reveal abnormalities and give clues to the underlying cause of the chronic kidney disease.', 'And this can also help to determine the underlying issues.', 'Various imaging tests like ultrasounds or CT scans can be done to help your doctor assess the size, the structure, as well as evaluate the visible damage, inflammation or stones of your kidneys.', 'And in some cases, a kidney biopsy may be necessary.', 'And a small amount of tissue is taken with a needle and sent to the pathologist for further analysis.', 'Treatment is determined by what is causing your kidneys to not function normally.', 'Treating the cause is key, leading to reduced complications and slowing progression of kidney disease.', 'For example, getting better blood pressure control, improved sugar control and diabetes, and reducing weight are often key interventions.', 'However, existing damage is not usually reversible.', 'In some conditions, treatment can reverse the cause of the disease.', 'So seeking medical review is really important.', 'Individual complications vary, but treatment might include high blood pressure medication, diuretics to reduce fluid and swelling, supplements to relieve anemia, statins to lower cholesterol, or medications to protect your bones and prevent blood vessel calcification.', 'A lower-protein diet may also be recommended.', 'It reduces the amount of waste your kidneys need to filter from your blood.', 'These can not only slow the damage of kidney disease, but make you feel better as well.', \"When the damage has progressed to the point that 85 to 90 percent of your kidney function is gone, and they no longer work well enough to keep you alive, it's called end-stage kidney failure.\", 'But there are still options.', \"There's dialysis, which uses a machine to filter the toxins and remove water from your body as your kidneys are no longer able to do this.\", 'Where possible, the preferred therapy is a kidney transplant.', \"While an organ transplant can sound daunting, it's actually often the better alternative, and the closest thing to a cure, if you qualify for a kidney transplant.\", 'If you have kidney disease, there are lifestyle choices.', 'Namely quit smoking.', 'Consuming alcohol in moderation.', \"If you're overweight or obese, then try to lose weight.\", 'Staying active and getting exercise can help not only with your weight, but fatigue and stress.', \"If your condition allows, keep up with your routine, whether that's working, hobbies, social activities, or other things you enjoy.\", \"It can be helpful to talk to someone you trust, a friend or relative who's good at listening.\", 'Or your doctor could also refer you to a therapist or social worker.', 'It can also be helpful to find a support group and connect with people going through the same thing.', 'Learning you have chronic kidney disease and learning how to live with it can be a challenge.', 'But there are lots of ways to help you to be more comfortable for longer before more drastic measures are needed.', 'And even then, there is plenty of hope.', \"If you'd like to learn even more about chronic kidney disease, watch our other related videos or visit mayoclinic.org.\", 'We wish you well.']\n"
     ]
    }
   ],
   "source": [
    "#print the list of sentences\n",
    "print(sentence_list)"
   ]
  },
  {
   "cell_type": "code",
   "execution_count": 11,
   "id": "64a42dfd",
   "metadata": {},
   "outputs": [],
   "source": [
    "#Fucntion to return a random greeting respose to users greeting\n",
    "def greeting_response(text):\n",
    "    text=text.lower()\n",
    "    #Bots greeting response\n",
    "    bot_greetings=['howdy','hey', 'hi', 'hello', 'hola']\n",
    "    #users greetings\n",
    "    user_greetings=['hi','hey', 'hello', 'hola', 'greetings', 'wassup']\n",
    "    \n",
    "    \n",
    "    for word in text.split():\n",
    "        if word in user_greetings:\n",
    "            return random.choice(bot_greetings)\n",
    "    \n",
    "    "
   ]
  },
  {
   "cell_type": "code",
   "execution_count": 12,
   "id": "c2e491d2",
   "metadata": {},
   "outputs": [],
   "source": [
    "def index_sort(list_var):\n",
    "    length=len(list_var)\n",
    "    list_index=list(range(0, length))\n",
    "    \n",
    "    x=list_var\n",
    "    for i in range(length):\n",
    "        for j in range(length):\n",
    "            if x[list_index[i]]>x[list_index[j]]:\n",
    "                #swap\n",
    "                temp=list_index[i]\n",
    "                list_index[i]=list_index[j]\n",
    "                list_index[j]=temp\n",
    "                \n",
    "    return list_index"
   ]
  },
  {
   "cell_type": "code",
   "execution_count": 13,
   "id": "92304698",
   "metadata": {},
   "outputs": [],
   "source": [
    "#Create bot response\n",
    "def bot_response(user_input):\n",
    "    user_input=user_input.lower()\n",
    "    sentence_list.append(user_input)\n",
    "    bot_response=''\n",
    "    cm=CountVectorizer().fit_transform(sentence_list)\n",
    "    similarity_scores=cosine_similrity(cm[-1],cm)\n",
    "    similarity_scores_list=similarity_scores.flatten()\n",
    "    index=index_sort(similarity_scores_list)\n",
    "    index=index[1:]\n",
    "    response_flag=0\n",
    "    \n",
    "    j=0\n",
    "    for i in range(len(index)):\n",
    "        if similarity_scores_list[index[i]]>0.0:\n",
    "            bot_response=bot_response+' '+sentence_list[index[i]]\n",
    "            response_flag=1\n",
    "            j+=1\n",
    "        if j>2:\n",
    "            break \n",
    "            \n",
    "    if response_flag ==0:\n",
    "        bot_response=bot_response+' '+\"I apologise, I don't understand\"\n",
    "    sentence_list.remove(user_input)\n",
    "    \n",
    "    return bot_response\n",
    "    "
   ]
  },
  {
   "cell_type": "code",
   "execution_count": 14,
   "id": "cf8e3004",
   "metadata": {},
   "outputs": [
    {
     "name": "stdout",
     "output_type": "stream",
     "text": [
      "Doc Bot: I am Doctor Bot or Doc Bot for short. I will answer your queries about Chronic Kidney Disease. If you want to exit, type exit\n",
      "hello\n",
      "Doc Bot: hello\n",
      "hi\n",
      "Doc Bot: hello\n",
      "hi\n",
      "Doc Bot: hello\n",
      "wassup\n",
      "Doc Bot: howdy\n",
      "see you later\n",
      "Doc Bot: Chat with you later !\n"
     ]
    }
   ],
   "source": [
    "#Start the chat\n",
    "print ('Doc Bot: I am Doctor Bot or Doc Bot for short. I will answer your queries about Chronic Kidney Disease. If you want to exit, type exit')\n",
    "\n",
    "exit_list=['exit', 'see you later', 'bye', 'quit', 'break']\n",
    "\n",
    "while(True):\n",
    "    user_input=input()\n",
    "    if user_input.lower() in exit_list:\n",
    "        print('Doc Bot: Chat with you later !')\n",
    "        break\n",
    "    else:\n",
    "        if greeting_response(user_input)!=None:\n",
    "            print('Doc Bot: ' +greeting_response(user_input))\n",
    "        else:\n",
    "            print('doc Bot: '+bot_response(user_input))"
   ]
  },
  {
   "cell_type": "code",
   "execution_count": null,
   "id": "191f587f",
   "metadata": {},
   "outputs": [],
   "source": []
  }
 ],
 "metadata": {
  "kernelspec": {
   "display_name": "Python 3 (ipykernel)",
   "language": "python",
   "name": "python3"
  },
  "language_info": {
   "codemirror_mode": {
    "name": "ipython",
    "version": 3
   },
   "file_extension": ".py",
   "mimetype": "text/x-python",
   "name": "python",
   "nbconvert_exporter": "python",
   "pygments_lexer": "ipython3",
   "version": "3.9.7"
  }
 },
 "nbformat": 4,
 "nbformat_minor": 5
}
